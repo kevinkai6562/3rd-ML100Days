{
 "cells": [
  {
   "cell_type": "markdown",
   "metadata": {},
   "source": [
    "## [作業目標]\n",
    "了解機器學習適合應用的領域與範疇。"
   ]
  },
  {
   "cell_type": "markdown",
   "metadata": {},
   "source": [
    "## [作業重點]\n",
    "透過瞭解機器學習的運作方式，找出非常適用機器學習應用的領域及其原因"
   ]
  },
  {
   "cell_type": "markdown",
   "metadata": {},
   "source": [
    "## 作業\n",
    "請找出一個你認為機器學習可以發光發熱的領域並闡述原因? "
   ]
  },
  {
   "cell_type": "code",
   "execution_count": null,
   "metadata": {},
   "outputs": [],
   "source": [
    "Ans:工業檢測/辨識等領域(使用機器視覺進行辨識/分類)\n",
    "以往對產品進行缺陷檢測方式皆使用人為方式進行辨識，缺點為耗費人力成本且品質不一。\n",
    "現階段邁向工業4.0將以機器代替人力進行檢測(並非完全取代，人員轉為負責機台軟體/設備等修改與維護相關技術)，\n",
    "而如何將機器訓練為一個\"好\"的辨識器就需要使用到機器學習的相關知識與技術。\n",
    "此外，像是汽車業也應用到機器學習中的深度學習等技術進行物件辨識、距離量測(車距安全警示、偏離軌道警示等)。\n",
    "手機APP軟體等也使用到人臉辨識與指紋辨識等功能，因此機器學習絕對可在工業檢測/辨識等領域發光發熱。"
   ]
  }
 ],
 "metadata": {
  "kernelspec": {
   "display_name": "Python 3",
   "language": "python",
   "name": "python3"
  },
  "language_info": {
   "codemirror_mode": {
    "name": "ipython",
    "version": 3
   },
   "file_extension": ".py",
   "mimetype": "text/x-python",
   "name": "python",
   "nbconvert_exporter": "python",
   "pygments_lexer": "ipython3",
   "version": "3.7.3"
  }
 },
 "nbformat": 4,
 "nbformat_minor": 2
}
