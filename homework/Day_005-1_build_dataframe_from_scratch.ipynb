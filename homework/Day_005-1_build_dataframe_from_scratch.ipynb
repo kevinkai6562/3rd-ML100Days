{
 "cells": [
  {
   "cell_type": "markdown",
   "metadata": {},
   "source": [
    "# [教學目標]\n",
    "- Pandas 處理最常用的資料格式, 我們稱為 DataFrame, 試著使用不同的方式新建一個 DataFrame 吧\n",
    "- 練習看看 DataFrame 可以對資料做什麼操作? (groupby 的使用)"
   ]
  },
  {
   "cell_type": "markdown",
   "metadata": {},
   "source": [
    "# [範例重點]\n",
    "- 新建 DataFrame 方法一 (In[2], In[3])\n",
    "- 新建 DataFrame 方法二 (In[4], In[5])\n",
    "- 資料操作 : groupby (In[6], Out[6])"
   ]
  },
  {
   "cell_type": "code",
   "execution_count": 1,
   "metadata": {},
   "outputs": [],
   "source": [
    "import pandas as pd\n",
    "import numpy as np"
   ]
  },
  {
   "cell_type": "markdown",
   "metadata": {
    "collapsed": true
   },
   "source": [
    "### 方法一"
   ]
  },
  {
   "cell_type": "code",
   "execution_count": 2,
   "metadata": {},
   "outputs": [],
   "source": [
    "data = {'weekday': ['Sun', 'Sun', 'Mon', 'Mon'],\n",
    "        'city': ['Austin', 'Dallas', 'Austin', 'Dallas'],\n",
    "        'visitor': [139, 237, 326, 456]}"
   ]
  },
  {
   "cell_type": "code",
   "execution_count": 3,
   "metadata": {},
   "outputs": [
    {
     "name": "stdout",
     "output_type": "stream",
     "text": [
      "  weekday    city  visitor\n",
      "0     Sun  Austin      139\n",
      "1     Sun  Dallas      237\n",
      "2     Mon  Austin      326\n",
      "3     Mon  Dallas      456\n"
     ]
    }
   ],
   "source": [
    "visitors_1 = pd.DataFrame(data)\n",
    "print(visitors_1)"
   ]
  },
  {
   "cell_type": "code",
   "execution_count": 4,
   "metadata": {},
   "outputs": [
    {
     "name": "stdout",
     "output_type": "stream",
     "text": [
      "{'weekday': ['Sun', 'Sun', 'Mon', 'Mon'], 'city': ['Austin', 'Dallas', 'Austin', 'Dallas'], 'visitor': [139, 237, 326, 456]}\n"
     ]
    }
   ],
   "source": [
    "print(data)"
   ]
  },
  {
   "cell_type": "markdown",
   "metadata": {},
   "source": [
    "### 方法二"
   ]
  },
  {
   "cell_type": "code",
   "execution_count": 26,
   "metadata": {},
   "outputs": [],
   "source": [
    "weekdays = ['Sun', 'Sun', 'Mon', 'Mon']\n",
    "cities = ['Austin', 'Dallas', 'Austin', 'Dallas']\n",
    "visitors = [139, 237, 326, 456]\n",
    "\n",
    "list_labels = ['weekday','city', 'visitor']\n",
    "list_cols = [weekdays, cities, visitors]\n",
    "\n",
    "zipped = list(zip(list_labels, list_cols))"
   ]
  },
  {
   "cell_type": "code",
   "execution_count": 27,
   "metadata": {},
   "outputs": [
    {
     "name": "stdout",
     "output_type": "stream",
     "text": [
      "     city weekday  visitor\n",
      "0  Austin     Sun      139\n",
      "1  Dallas     Sun      237\n",
      "2  Austin     Mon      326\n",
      "3  Dallas     Mon      456\n"
     ]
    }
   ],
   "source": [
    "visitors_2 = pd.DataFrame(dict(zipped))\n",
    "print(visitors_2)"
   ]
  },
  {
   "cell_type": "markdown",
   "metadata": {},
   "source": [
    "## 一個簡單例子\n",
    "假設你想知道如果利用 pandas 計算上述資料中，每個 weekday 的平均 visitor 數量，\n",
    "\n",
    "通過 google 你找到了 https://stackoverflow.com/questions/30482071/how-to-calculate-mean-values-grouped-on-another-column-in-pandas\n",
    "\n",
    "想要測試的時候就可以用 visitors_1 這個只有 4 筆資料的資料集來測試程式碼"
   ]
  },
  {
   "cell_type": "code",
   "execution_count": 5,
   "metadata": {},
   "outputs": [
    {
     "data": {
      "text/plain": [
       "weekday\n",
       "Mon    391\n",
       "Sun    188\n",
       "Name: visitor, dtype: int64"
      ]
     },
     "execution_count": 5,
     "metadata": {},
     "output_type": "execute_result"
    }
   ],
   "source": [
    "visitors_1.groupby(by=\"weekday\")['visitor'].mean()"
   ]
  },
  {
   "cell_type": "markdown",
   "metadata": {},
   "source": [
    "## 練習時間\n",
    "在小量的資料上，我們用眼睛就可以看得出來程式碼是否有跑出我們理想中的結果\n",
    "\n",
    "請嘗試想像一個你需要的資料結構 (裡面的值可以是隨機的)，然後用上述的方法把它變成 pandas DataFrame\n",
    "\n",
    "#### Ex: 想像一個 dataframe 有兩個欄位，一個是國家，一個是人口，求人口數最多的國家\n",
    "\n",
    "### Hints: [隨機產生數值](https://blog.csdn.net/christianashannon/article/details/78867204)"
   ]
  },
  {
   "cell_type": "code",
   "execution_count": 8,
   "metadata": {},
   "outputs": [
    {
     "name": "stdout",
     "output_type": "stream",
     "text": [
      "       國家        人口\n",
      "0  Taiwan  71876821\n",
      "1   Korea  98990516\n",
      "2   Japan  96766464\n",
      "3   India  68540271\n"
     ]
    }
   ],
   "source": [
    "data = {'國家': ['Taiwan','Korea','Japan','India'],\n",
    "        '人口': np.random.randint(100000,100000000,4)}\n",
    "mydata = pd.DataFrame(data)\n",
    "print(mydata)"
   ]
  },
  {
   "cell_type": "code",
   "execution_count": 9,
   "metadata": {},
   "outputs": [
    {
     "name": "stdout",
     "output_type": "stream",
     "text": [
      "              人口\n",
      "國家              \n",
      "India   68540271\n",
      "Japan   96766464\n",
      "Korea   98990516\n",
      "Taiwan  71876821\n"
     ]
    }
   ],
   "source": [
    "max_population = mydata.groupby(by='國家').sum()\n",
    "print(max_population)"
   ]
  },
  {
   "cell_type": "code",
   "execution_count": 49,
   "metadata": {},
   "outputs": [
    {
     "name": "stdout",
     "output_type": "stream",
     "text": [
      "人口最多國家: Japan，數值: 87089628\n"
     ]
    }
   ],
   "source": [
    "print('人口最多國家: {}，數值: {}'.format(max_population['人口'].idxmax(), max_population['人口'].max()))"
   ]
  },
  {
   "cell_type": "code",
   "execution_count": 18,
   "metadata": {},
   "outputs": [
    {
     "data": {
      "text/plain": [
       "'Korea'"
      ]
     },
     "execution_count": 18,
     "metadata": {},
     "output_type": "execute_result"
    }
   ],
   "source": [
    "max_population['人口'].idxmax()"
   ]
  },
  {
   "cell_type": "code",
   "execution_count": 16,
   "metadata": {},
   "outputs": [
    {
     "data": {
      "text/plain": [
       "98990516"
      ]
     },
     "execution_count": 16,
     "metadata": {},
     "output_type": "execute_result"
    }
   ],
   "source": [
    "max_population['人口'].max()"
   ]
  },
  {
   "cell_type": "code",
   "execution_count": 19,
   "metadata": {},
   "outputs": [
    {
     "name": "stdout",
     "output_type": "stream",
     "text": [
      "人口最多國家:Korea，數值:98990516\n"
     ]
    }
   ],
   "source": [
    "print('人口最多國家:{}，數值:{}'.format(max_population['人口'].idxmax(), max_population['人口'].max()))"
   ]
  }
 ],
 "metadata": {
  "kernelspec": {
   "display_name": "Python 3",
   "language": "python",
   "name": "python3"
  },
  "language_info": {
   "codemirror_mode": {
    "name": "ipython",
    "version": 3
   },
   "file_extension": ".py",
   "mimetype": "text/x-python",
   "name": "python",
   "nbconvert_exporter": "python",
   "pygments_lexer": "ipython3",
   "version": "3.7.3"
  }
 },
 "nbformat": 4,
 "nbformat_minor": 2
}
