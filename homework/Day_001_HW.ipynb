{
 "cells": [
  {
   "cell_type": "markdown",
   "metadata": {},
   "source": [
    "## 練習時間\n",
    "#### 請寫一個函式用來計算 Mean Square Error\n",
    "$ MSE = \\frac{1}{n}\\sum_{i=1}^{n}{(Y_i - \\hat{Y}_i)^2} $\n",
    "\n",
    "### Hint: [如何取平方](https://googoodesign.gitbooks.io/-ezpython/unit-1.html)"
   ]
  },
  {
   "cell_type": "markdown",
   "metadata": {},
   "source": [
    "# [作業目標]\n",
    "- 仿造範例的MAE函數, 自己寫一個MSE函數(參考上面公式)"
   ]
  },
  {
   "cell_type": "markdown",
   "metadata": {},
   "source": [
    "# [作業重點]\n",
    "- 注意程式的縮排\n",
    "- 是否能將數學公式, 轉換為 Python 的函式組合? (In[2], Out[2])"
   ]
  },
  {
   "cell_type": "code",
   "execution_count": 1,
   "metadata": {},
   "outputs": [],
   "source": [
    "# 載入基礎套件與代稱\n",
    "import numpy as np\n",
    "import matplotlib.pyplot as plt"
   ]
  },
  {
   "cell_type": "code",
   "execution_count": 2,
   "metadata": {},
   "outputs": [],
   "source": [
    "def mean_absolute_error(y, yp):\n",
    "    \"\"\"\n",
    "    計算 MAE\n",
    "    Args:\n",
    "        - y: 實際值\n",
    "        - yp: 預測值\n",
    "    Return:\n",
    "        - mae: MAE\n",
    "    \"\"\"\n",
    "    mae = MAE = sum(abs(y - yp)) / len(y)\n",
    "    return mae\n",
    "\n",
    "# 定義 mean_squared_error 這個函數, 計算並傳回 MSE\n",
    "def mean_squared_error(y,yp):\n",
    "    \"\"\"\n",
    "    計算MSE\n",
    "    Args:\n",
    "        -y: 實際值\n",
    "        -yp: 預測值\n",
    "    Return:\n",
    "        -mse: MSE\n",
    "    \"\"\"\n",
    "    # MSE : 將兩個陣列相減後, 取平方, 再將整個陣列數值加總\n",
    "    mse = MSE = sum((y-yp)**2)\n",
    "    return mse"
   ]
  },
  {
   "cell_type": "code",
   "execution_count": 3,
   "metadata": {},
   "outputs": [
    {
     "data": {
      "image/png": "[encoded data removed]",
      "text/plain": [
       "<Figure size 432x288 with 1 Axes>"
      ]
     },
     "metadata": {
      "needs_background": "light"
     },
     "output_type": "display_data"
    }
   ],
   "source": [
    "# 與範例相同, 不另外解說\n",
    "w = 3\n",
    "b = 0.5\n",
    "x_lin = np.linspace(0, 100, 101)\n",
    "y = (x_lin + np.random.randn(101) * 5) * w + b\n",
    "\n",
    "plt.plot(x_lin, y, 'b.', label = 'data points')\n",
    "plt.title(\"Assume we have data points\")\n",
    "plt.legend(loc = 2)\n",
    "plt.show()"
   ]
  },
  {
   "cell_type": "code",
   "execution_count": 4,
   "metadata": {},
   "outputs": [
    {
     "data": {
      "image/png": "[encoded data removed]",
      "text/plain": [
       "<Figure size 432x288 with 1 Axes>"
      ]
     },
     "metadata": {
      "needs_background": "light"
     },
     "output_type": "display_data"
    }
   ],
   "source": [
    "# 與範例相同, 不另外解說\n",
    "y_hat = x_lin * w + b\n",
    "plt.plot(x_lin, y, 'b.', label = 'data')\n",
    "plt.plot(x_lin, y_hat, 'r-', label = 'prediction')\n",
    "plt.title(\"Assume we have data points (And the prediction)\")\n",
    "plt.legend(loc = 2)\n",
    "plt.show()"
   ]
  },
  {
   "cell_type": "code",
   "execution_count": 5,
   "metadata": {},
   "outputs": [
    {
     "name": "stdout",
     "output_type": "stream",
     "text": [
      "The Mean squared error is 23371.383\n",
      "The Mean absolute error is 12.819\n"
     ]
    }
   ],
   "source": [
    "# 執行 Function, 確認有沒有正常執行\n",
    "MSE = mean_squared_error(y, y_hat)\n",
    "MAE = mean_absolute_error(y, y_hat)\n",
    "print(\"The Mean squared error is %.3f\" % (MSE))\n",
    "print(\"The Mean absolute error is %.3f\" % (MAE))"
   ]
  },
  {
   "cell_type": "markdown",
   "metadata": {},
   "source": [
    "# [作業2]\n",
    "\n",
    "請上 Kaggle, 在 Competitions 或 Dataset 中找一組競賽或資料並寫下：\n",
    "\n",
    "1. 你選的這組資料為何重要\n",
    "\n",
    "2. 資料從何而來 (tips: 譬如提供者是誰、以什麼方式蒐集)\n",
    "\n",
    "3. 蒐集而來的資料型態為何\n",
    "\n",
    "4. 這組資料想解決的問題如何評估\n",
    "\n",
    "# [作業3]\n",
    "\n",
    "想像你經營一個自由載客車隊，你希望能透過數據分析以提升業績，請你思考並描述你如何規劃整體的分析/解決方案：\n",
    "\n",
    "1. 核心問題為何 (tips：如何定義 「提升業績 & 你的假設」)\n",
    "\n",
    "2. 資料從何而來 (tips：哪些資料可能會對你想問的問題產生影響 & 資料如何蒐集)\n",
    "\n",
    "3. 蒐集而來的資料型態為何\n",
    "\n",
    "4. 你要回答的問題，其如何評估 (tips：你的假設如何驗證)"
   ]
  },
  {
   "cell_type": "code",
   "execution_count": null,
   "metadata": {},
   "outputs": [],
   "source": [
    "#[作業2]\n",
    "資料名稱：Imagine being able to detect blindness before it happened. \n",
    "來源：Kaggle Competitions\n",
    "\n",
    "1.這組資料目的在於使用影像進行偵測，以幫助人類預防糖尿病性視網膜病變發生的可能性。\n",
    "\n",
    "2.資料由印度的Aravind眼科醫院所提供，蒐集方式為Aravind技術人員前往難以進行醫療檢查的農村地區蒐集圖像，然後依靠訓練有素的醫生審查圖像並提供診斷。\n",
    "\n",
    "3.蒐集而來的資料型態為數字型態，將影像分成5個等級，分別為0-4 ( 0代表無糖尿病性視網膜病變、1代表輕微、2代表中等、3代表嚴重以及4代表增值性)並且將每張影像的特徵儲存為一個陣列[e,e]，第一個e對應為Rater A(human)而第二個e對應為Rater B(predicted)。\n",
    "\n",
    "4.評估方式為使用quadratic weighted kappa方法進行評估，衡量兩個評級之間的一致性。該度量通常從0（評估者之間的隨機協議）到1（評估者之間的完全一致）變化。如果評估者之間的一致性低於偶然預期，則該度量可能低於0，人類評估者分配的分數和預測分數之間計算二次加權kappa。。"
   ]
  },
  {
   "cell_type": "code",
   "execution_count": null,
   "metadata": {},
   "outputs": [],
   "source": [
    "#[作業3]\n",
    "1.假設：目前經營一個自由載客車隊，以桃園市地區為例。由於目前已有計程車車隊，因此無法常駐在高鐵、火車站等地區載客，僅能透過顧客使用電話或APP等方式進行預約。目前核心問題為如何提升業績。\n",
    "\n",
    "1-1.現階段經營模式：\n",
    "乘客透過手機或電話、APP軟體及便利商店叫車服務預約叫車(車隊收到叫車通知後會尋找離乘客最近之車輛並派車過去)。\n",
    "\n",
    "1-2提升業績方式：\n",
    "1)提高服務品質(設立標準，司機評分在標準以上給予獎金)。\n",
    "2).調整經營模式(觀察各地區與各時段之需求量並在需求量大之地區設立駐點)。\n",
    "\n",
    "2.資料如何蒐集：\n",
    "2-1.顧客問卷與APP問卷滿意度調查。\n",
    "問卷項目：\n",
    "1).服務態度(駕駛態度、有無幫助乘車上下車、行李搬運及放置等)\n",
    "2).安全度(車速是否適中、有無違規、使用手機等)\n",
    "3).乘車舒適度(車內是否整潔乾淨、駕駛有無抽菸吃檳榔等)\n",
    "4).搭乘時間(從預約開始至抵達目的地)\n",
    "\n",
    "2-2.各區域叫車需求量與叫車時段資料蒐集(當預約成功時將資料存入至電腦中)。\n",
    "例如：\n",
    "1).桃園區、中壢區每日載客量。\n",
    "2).平日、假日載客量。\n",
    "3).上下班、上午、下午、晚上及凌晨時段需求量。\n",
    "4).顧客目的地分布(例如到高鐵、火車站、百貨等)。\n",
    "\n",
    "3.蒐集而來的資料型態為何\n",
    "將資料統一轉換成數字型態，且需經過標準化\n",
    "例如：\n",
    "1).問卷的滿意度為0-5分\n",
    "2).叫車需求量(人數/天)\n",
    "3).叫車時段(人數/時段)\n",
    "\n",
    "4.你要回答的問題，其如何評估 (tips：你的假設如何驗證)\n",
    "評估方式:\n",
    "1).觀察轉換後的資料型態\n",
    "2).畫出其分布圖\n",
    "3).依據分布情形選擇適當的評估方法並建立預測模型\n",
    "4).判斷模型好壞以調整參數或增加/減少特徵\n",
    "5).建立衡量指標\n"
   ]
  }
 ],
 "metadata": {
  "anaconda-cloud": {},
  "kernelspec": {
   "display_name": "Python 3",
   "language": "python",
   "name": "python3"
  },
  "language_info": {
   "codemirror_mode": {
    "name": "ipython",
    "version": 3
   },
   "file_extension": ".py",
   "mimetype": "text/x-python",
   "name": "python",
   "nbconvert_exporter": "python",
   "pygments_lexer": "ipython3",
   "version": "3.7.3"
  }
 },
 "nbformat": 4,
 "nbformat_minor": 1
}
